{
  "nbformat": 4,
  "nbformat_minor": 0,
  "metadata": {
    "colab": {
      "provenance": [],
      "gpuType": "T4",
      "mount_file_id": "1y1q8oCqP1V__UjK1cQcRg_YOWkCYu_kc",
      "authorship_tag": "ABX9TyONb91McpDywS38L5JVh2c4",
      "include_colab_link": true
    },
    "kernelspec": {
      "name": "python3",
      "display_name": "Python 3"
    },
    "language_info": {
      "name": "python"
    },
    "accelerator": "GPU"
  },
  "cells": [
    {
      "cell_type": "markdown",
      "metadata": {
        "id": "view-in-github",
        "colab_type": "text"
      },
      "source": [
        "<a href=\"https://colab.research.google.com/github/ThrimannaA/AcademicData_Multi_Class_Classification_model/blob/main/AcademicData_Multi_Layer_Perceptron_(MLP)_for_Multi_Class_Classification_model.ipynb\" target=\"_parent\"><img src=\"https://colab.research.google.com/assets/colab-badge.svg\" alt=\"Open In Colab\"/></a>"
      ]
    },
    {
      "cell_type": "code",
      "execution_count": 136,
      "metadata": {
        "id": "bhqokx3oDoRR"
      },
      "outputs": [],
      "source": [
        "#import libraries\n",
        "import tensorflow as tf\n",
        "from tensorflow.keras import layers, models\n",
        "import numpy as np\n",
        "import pandas as pd\n",
        "from sklearn.preprocessing import OneHotEncoder, LabelEncoder\n",
        "from sklearn.compose import ColumnTransformer\n",
        "from sklearn.preprocessing import StandardScaler\n",
        "from sklearn.model_selection import train_test_split\n",
        "from tensorflow.keras.layers import Dense, Dropout\n",
        "from tensorflow.keras.callbacks import EarlyStopping\n",
        "from sklearn.metrics import classification_report"
      ]
    },
    {
      "cell_type": "markdown",
      "source": [
        "#Data Preparation"
      ],
      "metadata": {
        "id": "7WEBbEwkSBjZ"
      }
    },
    {
      "cell_type": "code",
      "source": [
        "#connect to drive\n",
        "from google.colab import drive\n",
        "drive.mount('/content/drive')"
      ],
      "metadata": {
        "colab": {
          "base_uri": "https://localhost:8080/"
        },
        "id": "c66pOqQJKu2Q",
        "outputId": "515be7c3-8419-414e-c57b-2da90bdc9290"
      },
      "execution_count": 137,
      "outputs": [
        {
          "output_type": "stream",
          "name": "stdout",
          "text": [
            "Drive already mounted at /content/drive; to attempt to forcibly remount, call drive.mount(\"/content/drive\", force_remount=True).\n"
          ]
        }
      ]
    },
    {
      "cell_type": "code",
      "source": [
        "#import the tabular dataset from google drive\n",
        "filename = '/content/drive/MyDrive/MLOM_Practical Assignment_1/academic_dataset.csv'\n",
        "dataset = open(filename, 'r', encoding='utf-8').read()"
      ],
      "metadata": {
        "id": "fcc--IlELskI"
      },
      "execution_count": 138,
      "outputs": []
    },
    {
      "cell_type": "code",
      "source": [
        "# Check if paths exist\n",
        "import os\n",
        "print(\"dataset exists:\", os.path.exists(dataset))"
      ],
      "metadata": {
        "colab": {
          "base_uri": "https://localhost:8080/"
        },
        "id": "P9yIFYUtKuoY",
        "outputId": "fbe10964-c1b6-47ec-86b7-34039f03ee11"
      },
      "execution_count": 139,
      "outputs": [
        {
          "output_type": "stream",
          "name": "stdout",
          "text": [
            "dataset exists: False\n"
          ]
        }
      ]
    },
    {
      "cell_type": "code",
      "source": [
        "#Load the tabular dataset\n",
        "dataset = pd.read_csv('/content/drive/MyDrive/MLOM_Practical Assignment_1/academic_dataset.csv')"
      ],
      "metadata": {
        "id": "3ljCt7WNNh9A"
      },
      "execution_count": 140,
      "outputs": []
    },
    {
      "cell_type": "code",
      "source": [
        "#Display first few rows of the dataset to check whether dataset is available now\n",
        "dataset.head()"
      ],
      "metadata": {
        "colab": {
          "base_uri": "https://localhost:8080/",
          "height": 226
        },
        "id": "4LZrvJtNNh1g",
        "outputId": "260352c6-1bfd-4d33-8074-a21703fd548d"
      },
      "execution_count": 141,
      "outputs": [
        {
          "output_type": "execute_result",
          "data": {
            "text/plain": [
              "  gender NationalITy PlaceofBirth     StageID GradeID SectionID Topic  \\\n",
              "0      M          KW       KuwaIT  lowerlevel    G-04         A    IT   \n",
              "1      M          KW       KuwaIT  lowerlevel    G-04         A    IT   \n",
              "2      M          KW       KuwaIT  lowerlevel    G-04         A    IT   \n",
              "3      M          KW       KuwaIT  lowerlevel    G-04         A    IT   \n",
              "4      M          KW       KuwaIT  lowerlevel    G-04         A    IT   \n",
              "\n",
              "  Semester Relation  raisedhands  VisITedResources  AnnouncementsView  \\\n",
              "0        F   Father           15                16                  2   \n",
              "1        F   Father           20                20                  3   \n",
              "2        F   Father           10                 7                  0   \n",
              "3        F   Father           30                25                  5   \n",
              "4        F   Father           40                50                 12   \n",
              "\n",
              "   Discussion ParentAnsweringSurvey ParentschoolSatisfaction  \\\n",
              "0          20                   Yes                     Good   \n",
              "1          25                   Yes                     Good   \n",
              "2          30                    No                      Bad   \n",
              "3          35                    No                      Bad   \n",
              "4          50                    No                      Bad   \n",
              "\n",
              "  StudentAbsenceDays Class  \n",
              "0            Under-7     M  \n",
              "1            Under-7     M  \n",
              "2            Above-7     L  \n",
              "3            Above-7     L  \n",
              "4            Above-7     M  "
            ],
            "text/html": [
              "\n",
              "  <div id=\"df-97cbf9eb-5c99-44cb-911d-544990297107\" class=\"colab-df-container\">\n",
              "    <div>\n",
              "<style scoped>\n",
              "    .dataframe tbody tr th:only-of-type {\n",
              "        vertical-align: middle;\n",
              "    }\n",
              "\n",
              "    .dataframe tbody tr th {\n",
              "        vertical-align: top;\n",
              "    }\n",
              "\n",
              "    .dataframe thead th {\n",
              "        text-align: right;\n",
              "    }\n",
              "</style>\n",
              "<table border=\"1\" class=\"dataframe\">\n",
              "  <thead>\n",
              "    <tr style=\"text-align: right;\">\n",
              "      <th></th>\n",
              "      <th>gender</th>\n",
              "      <th>NationalITy</th>\n",
              "      <th>PlaceofBirth</th>\n",
              "      <th>StageID</th>\n",
              "      <th>GradeID</th>\n",
              "      <th>SectionID</th>\n",
              "      <th>Topic</th>\n",
              "      <th>Semester</th>\n",
              "      <th>Relation</th>\n",
              "      <th>raisedhands</th>\n",
              "      <th>VisITedResources</th>\n",
              "      <th>AnnouncementsView</th>\n",
              "      <th>Discussion</th>\n",
              "      <th>ParentAnsweringSurvey</th>\n",
              "      <th>ParentschoolSatisfaction</th>\n",
              "      <th>StudentAbsenceDays</th>\n",
              "      <th>Class</th>\n",
              "    </tr>\n",
              "  </thead>\n",
              "  <tbody>\n",
              "    <tr>\n",
              "      <th>0</th>\n",
              "      <td>M</td>\n",
              "      <td>KW</td>\n",
              "      <td>KuwaIT</td>\n",
              "      <td>lowerlevel</td>\n",
              "      <td>G-04</td>\n",
              "      <td>A</td>\n",
              "      <td>IT</td>\n",
              "      <td>F</td>\n",
              "      <td>Father</td>\n",
              "      <td>15</td>\n",
              "      <td>16</td>\n",
              "      <td>2</td>\n",
              "      <td>20</td>\n",
              "      <td>Yes</td>\n",
              "      <td>Good</td>\n",
              "      <td>Under-7</td>\n",
              "      <td>M</td>\n",
              "    </tr>\n",
              "    <tr>\n",
              "      <th>1</th>\n",
              "      <td>M</td>\n",
              "      <td>KW</td>\n",
              "      <td>KuwaIT</td>\n",
              "      <td>lowerlevel</td>\n",
              "      <td>G-04</td>\n",
              "      <td>A</td>\n",
              "      <td>IT</td>\n",
              "      <td>F</td>\n",
              "      <td>Father</td>\n",
              "      <td>20</td>\n",
              "      <td>20</td>\n",
              "      <td>3</td>\n",
              "      <td>25</td>\n",
              "      <td>Yes</td>\n",
              "      <td>Good</td>\n",
              "      <td>Under-7</td>\n",
              "      <td>M</td>\n",
              "    </tr>\n",
              "    <tr>\n",
              "      <th>2</th>\n",
              "      <td>M</td>\n",
              "      <td>KW</td>\n",
              "      <td>KuwaIT</td>\n",
              "      <td>lowerlevel</td>\n",
              "      <td>G-04</td>\n",
              "      <td>A</td>\n",
              "      <td>IT</td>\n",
              "      <td>F</td>\n",
              "      <td>Father</td>\n",
              "      <td>10</td>\n",
              "      <td>7</td>\n",
              "      <td>0</td>\n",
              "      <td>30</td>\n",
              "      <td>No</td>\n",
              "      <td>Bad</td>\n",
              "      <td>Above-7</td>\n",
              "      <td>L</td>\n",
              "    </tr>\n",
              "    <tr>\n",
              "      <th>3</th>\n",
              "      <td>M</td>\n",
              "      <td>KW</td>\n",
              "      <td>KuwaIT</td>\n",
              "      <td>lowerlevel</td>\n",
              "      <td>G-04</td>\n",
              "      <td>A</td>\n",
              "      <td>IT</td>\n",
              "      <td>F</td>\n",
              "      <td>Father</td>\n",
              "      <td>30</td>\n",
              "      <td>25</td>\n",
              "      <td>5</td>\n",
              "      <td>35</td>\n",
              "      <td>No</td>\n",
              "      <td>Bad</td>\n",
              "      <td>Above-7</td>\n",
              "      <td>L</td>\n",
              "    </tr>\n",
              "    <tr>\n",
              "      <th>4</th>\n",
              "      <td>M</td>\n",
              "      <td>KW</td>\n",
              "      <td>KuwaIT</td>\n",
              "      <td>lowerlevel</td>\n",
              "      <td>G-04</td>\n",
              "      <td>A</td>\n",
              "      <td>IT</td>\n",
              "      <td>F</td>\n",
              "      <td>Father</td>\n",
              "      <td>40</td>\n",
              "      <td>50</td>\n",
              "      <td>12</td>\n",
              "      <td>50</td>\n",
              "      <td>No</td>\n",
              "      <td>Bad</td>\n",
              "      <td>Above-7</td>\n",
              "      <td>M</td>\n",
              "    </tr>\n",
              "  </tbody>\n",
              "</table>\n",
              "</div>\n",
              "    <div class=\"colab-df-buttons\">\n",
              "\n",
              "  <div class=\"colab-df-container\">\n",
              "    <button class=\"colab-df-convert\" onclick=\"convertToInteractive('df-97cbf9eb-5c99-44cb-911d-544990297107')\"\n",
              "            title=\"Convert this dataframe to an interactive table.\"\n",
              "            style=\"display:none;\">\n",
              "\n",
              "  <svg xmlns=\"http://www.w3.org/2000/svg\" height=\"24px\" viewBox=\"0 -960 960 960\">\n",
              "    <path d=\"M120-120v-720h720v720H120Zm60-500h600v-160H180v160Zm220 220h160v-160H400v160Zm0 220h160v-160H400v160ZM180-400h160v-160H180v160Zm440 0h160v-160H620v160ZM180-180h160v-160H180v160Zm440 0h160v-160H620v160Z\"/>\n",
              "  </svg>\n",
              "    </button>\n",
              "\n",
              "  <style>\n",
              "    .colab-df-container {\n",
              "      display:flex;\n",
              "      gap: 12px;\n",
              "    }\n",
              "\n",
              "    .colab-df-convert {\n",
              "      background-color: #E8F0FE;\n",
              "      border: none;\n",
              "      border-radius: 50%;\n",
              "      cursor: pointer;\n",
              "      display: none;\n",
              "      fill: #1967D2;\n",
              "      height: 32px;\n",
              "      padding: 0 0 0 0;\n",
              "      width: 32px;\n",
              "    }\n",
              "\n",
              "    .colab-df-convert:hover {\n",
              "      background-color: #E2EBFA;\n",
              "      box-shadow: 0px 1px 2px rgba(60, 64, 67, 0.3), 0px 1px 3px 1px rgba(60, 64, 67, 0.15);\n",
              "      fill: #174EA6;\n",
              "    }\n",
              "\n",
              "    .colab-df-buttons div {\n",
              "      margin-bottom: 4px;\n",
              "    }\n",
              "\n",
              "    [theme=dark] .colab-df-convert {\n",
              "      background-color: #3B4455;\n",
              "      fill: #D2E3FC;\n",
              "    }\n",
              "\n",
              "    [theme=dark] .colab-df-convert:hover {\n",
              "      background-color: #434B5C;\n",
              "      box-shadow: 0px 1px 3px 1px rgba(0, 0, 0, 0.15);\n",
              "      filter: drop-shadow(0px 1px 2px rgba(0, 0, 0, 0.3));\n",
              "      fill: #FFFFFF;\n",
              "    }\n",
              "  </style>\n",
              "\n",
              "    <script>\n",
              "      const buttonEl =\n",
              "        document.querySelector('#df-97cbf9eb-5c99-44cb-911d-544990297107 button.colab-df-convert');\n",
              "      buttonEl.style.display =\n",
              "        google.colab.kernel.accessAllowed ? 'block' : 'none';\n",
              "\n",
              "      async function convertToInteractive(key) {\n",
              "        const element = document.querySelector('#df-97cbf9eb-5c99-44cb-911d-544990297107');\n",
              "        const dataTable =\n",
              "          await google.colab.kernel.invokeFunction('convertToInteractive',\n",
              "                                                    [key], {});\n",
              "        if (!dataTable) return;\n",
              "\n",
              "        const docLinkHtml = 'Like what you see? Visit the ' +\n",
              "          '<a target=\"_blank\" href=https://colab.research.google.com/notebooks/data_table.ipynb>data table notebook</a>'\n",
              "          + ' to learn more about interactive tables.';\n",
              "        element.innerHTML = '';\n",
              "        dataTable['output_type'] = 'display_data';\n",
              "        await google.colab.output.renderOutput(dataTable, element);\n",
              "        const docLink = document.createElement('div');\n",
              "        docLink.innerHTML = docLinkHtml;\n",
              "        element.appendChild(docLink);\n",
              "      }\n",
              "    </script>\n",
              "  </div>\n",
              "\n",
              "\n",
              "<div id=\"df-b786b30a-f3a3-451e-97a7-13da0625b861\">\n",
              "  <button class=\"colab-df-quickchart\" onclick=\"quickchart('df-b786b30a-f3a3-451e-97a7-13da0625b861')\"\n",
              "            title=\"Suggest charts\"\n",
              "            style=\"display:none;\">\n",
              "\n",
              "<svg xmlns=\"http://www.w3.org/2000/svg\" height=\"24px\"viewBox=\"0 0 24 24\"\n",
              "     width=\"24px\">\n",
              "    <g>\n",
              "        <path d=\"M19 3H5c-1.1 0-2 .9-2 2v14c0 1.1.9 2 2 2h14c1.1 0 2-.9 2-2V5c0-1.1-.9-2-2-2zM9 17H7v-7h2v7zm4 0h-2V7h2v10zm4 0h-2v-4h2v4z\"/>\n",
              "    </g>\n",
              "</svg>\n",
              "  </button>\n",
              "\n",
              "<style>\n",
              "  .colab-df-quickchart {\n",
              "      --bg-color: #E8F0FE;\n",
              "      --fill-color: #1967D2;\n",
              "      --hover-bg-color: #E2EBFA;\n",
              "      --hover-fill-color: #174EA6;\n",
              "      --disabled-fill-color: #AAA;\n",
              "      --disabled-bg-color: #DDD;\n",
              "  }\n",
              "\n",
              "  [theme=dark] .colab-df-quickchart {\n",
              "      --bg-color: #3B4455;\n",
              "      --fill-color: #D2E3FC;\n",
              "      --hover-bg-color: #434B5C;\n",
              "      --hover-fill-color: #FFFFFF;\n",
              "      --disabled-bg-color: #3B4455;\n",
              "      --disabled-fill-color: #666;\n",
              "  }\n",
              "\n",
              "  .colab-df-quickchart {\n",
              "    background-color: var(--bg-color);\n",
              "    border: none;\n",
              "    border-radius: 50%;\n",
              "    cursor: pointer;\n",
              "    display: none;\n",
              "    fill: var(--fill-color);\n",
              "    height: 32px;\n",
              "    padding: 0;\n",
              "    width: 32px;\n",
              "  }\n",
              "\n",
              "  .colab-df-quickchart:hover {\n",
              "    background-color: var(--hover-bg-color);\n",
              "    box-shadow: 0 1px 2px rgba(60, 64, 67, 0.3), 0 1px 3px 1px rgba(60, 64, 67, 0.15);\n",
              "    fill: var(--button-hover-fill-color);\n",
              "  }\n",
              "\n",
              "  .colab-df-quickchart-complete:disabled,\n",
              "  .colab-df-quickchart-complete:disabled:hover {\n",
              "    background-color: var(--disabled-bg-color);\n",
              "    fill: var(--disabled-fill-color);\n",
              "    box-shadow: none;\n",
              "  }\n",
              "\n",
              "  .colab-df-spinner {\n",
              "    border: 2px solid var(--fill-color);\n",
              "    border-color: transparent;\n",
              "    border-bottom-color: var(--fill-color);\n",
              "    animation:\n",
              "      spin 1s steps(1) infinite;\n",
              "  }\n",
              "\n",
              "  @keyframes spin {\n",
              "    0% {\n",
              "      border-color: transparent;\n",
              "      border-bottom-color: var(--fill-color);\n",
              "      border-left-color: var(--fill-color);\n",
              "    }\n",
              "    20% {\n",
              "      border-color: transparent;\n",
              "      border-left-color: var(--fill-color);\n",
              "      border-top-color: var(--fill-color);\n",
              "    }\n",
              "    30% {\n",
              "      border-color: transparent;\n",
              "      border-left-color: var(--fill-color);\n",
              "      border-top-color: var(--fill-color);\n",
              "      border-right-color: var(--fill-color);\n",
              "    }\n",
              "    40% {\n",
              "      border-color: transparent;\n",
              "      border-right-color: var(--fill-color);\n",
              "      border-top-color: var(--fill-color);\n",
              "    }\n",
              "    60% {\n",
              "      border-color: transparent;\n",
              "      border-right-color: var(--fill-color);\n",
              "    }\n",
              "    80% {\n",
              "      border-color: transparent;\n",
              "      border-right-color: var(--fill-color);\n",
              "      border-bottom-color: var(--fill-color);\n",
              "    }\n",
              "    90% {\n",
              "      border-color: transparent;\n",
              "      border-bottom-color: var(--fill-color);\n",
              "    }\n",
              "  }\n",
              "</style>\n",
              "\n",
              "  <script>\n",
              "    async function quickchart(key) {\n",
              "      const quickchartButtonEl =\n",
              "        document.querySelector('#' + key + ' button');\n",
              "      quickchartButtonEl.disabled = true;  // To prevent multiple clicks.\n",
              "      quickchartButtonEl.classList.add('colab-df-spinner');\n",
              "      try {\n",
              "        const charts = await google.colab.kernel.invokeFunction(\n",
              "            'suggestCharts', [key], {});\n",
              "      } catch (error) {\n",
              "        console.error('Error during call to suggestCharts:', error);\n",
              "      }\n",
              "      quickchartButtonEl.classList.remove('colab-df-spinner');\n",
              "      quickchartButtonEl.classList.add('colab-df-quickchart-complete');\n",
              "    }\n",
              "    (() => {\n",
              "      let quickchartButtonEl =\n",
              "        document.querySelector('#df-b786b30a-f3a3-451e-97a7-13da0625b861 button');\n",
              "      quickchartButtonEl.style.display =\n",
              "        google.colab.kernel.accessAllowed ? 'block' : 'none';\n",
              "    })();\n",
              "  </script>\n",
              "</div>\n",
              "\n",
              "    </div>\n",
              "  </div>\n"
            ],
            "application/vnd.google.colaboratory.intrinsic+json": {
              "type": "dataframe",
              "variable_name": "dataset",
              "summary": "{\n  \"name\": \"dataset\",\n  \"rows\": 480,\n  \"fields\": [\n    {\n      \"column\": \"gender\",\n      \"properties\": {\n        \"dtype\": \"category\",\n        \"num_unique_values\": 2,\n        \"samples\": [\n          \"F\",\n          \"M\"\n        ],\n        \"semantic_type\": \"\",\n        \"description\": \"\"\n      }\n    },\n    {\n      \"column\": \"NationalITy\",\n      \"properties\": {\n        \"dtype\": \"category\",\n        \"num_unique_values\": 14,\n        \"samples\": [\n          \"Morocco\",\n          \"Palestine\"\n        ],\n        \"semantic_type\": \"\",\n        \"description\": \"\"\n      }\n    },\n    {\n      \"column\": \"PlaceofBirth\",\n      \"properties\": {\n        \"dtype\": \"category\",\n        \"num_unique_values\": 14,\n        \"samples\": [\n          \"Morocco\",\n          \"Iraq\"\n        ],\n        \"semantic_type\": \"\",\n        \"description\": \"\"\n      }\n    },\n    {\n      \"column\": \"StageID\",\n      \"properties\": {\n        \"dtype\": \"category\",\n        \"num_unique_values\": 3,\n        \"samples\": [\n          \"lowerlevel\",\n          \"MiddleSchool\"\n        ],\n        \"semantic_type\": \"\",\n        \"description\": \"\"\n      }\n    },\n    {\n      \"column\": \"GradeID\",\n      \"properties\": {\n        \"dtype\": \"category\",\n        \"num_unique_values\": 10,\n        \"samples\": [\n          \"G-10\",\n          \"G-07\"\n        ],\n        \"semantic_type\": \"\",\n        \"description\": \"\"\n      }\n    },\n    {\n      \"column\": \"SectionID\",\n      \"properties\": {\n        \"dtype\": \"category\",\n        \"num_unique_values\": 3,\n        \"samples\": [\n          \"A\",\n          \"B\"\n        ],\n        \"semantic_type\": \"\",\n        \"description\": \"\"\n      }\n    },\n    {\n      \"column\": \"Topic\",\n      \"properties\": {\n        \"dtype\": \"category\",\n        \"num_unique_values\": 12,\n        \"samples\": [\n          \"Chemistry\",\n          \"Biology\"\n        ],\n        \"semantic_type\": \"\",\n        \"description\": \"\"\n      }\n    },\n    {\n      \"column\": \"Semester\",\n      \"properties\": {\n        \"dtype\": \"category\",\n        \"num_unique_values\": 2,\n        \"samples\": [\n          \"S\",\n          \"F\"\n        ],\n        \"semantic_type\": \"\",\n        \"description\": \"\"\n      }\n    },\n    {\n      \"column\": \"Relation\",\n      \"properties\": {\n        \"dtype\": \"category\",\n        \"num_unique_values\": 2,\n        \"samples\": [\n          \"Mum\",\n          \"Father\"\n        ],\n        \"semantic_type\": \"\",\n        \"description\": \"\"\n      }\n    },\n    {\n      \"column\": \"raisedhands\",\n      \"properties\": {\n        \"dtype\": \"number\",\n        \"std\": 30,\n        \"min\": 0,\n        \"max\": 100,\n        \"num_unique_values\": 82,\n        \"samples\": [\n          49,\n          15\n        ],\n        \"semantic_type\": \"\",\n        \"description\": \"\"\n      }\n    },\n    {\n      \"column\": \"VisITedResources\",\n      \"properties\": {\n        \"dtype\": \"number\",\n        \"std\": 33,\n        \"min\": 0,\n        \"max\": 99,\n        \"num_unique_values\": 89,\n        \"samples\": [\n          42,\n          82\n        ],\n        \"semantic_type\": \"\",\n        \"description\": \"\"\n      }\n    },\n    {\n      \"column\": \"AnnouncementsView\",\n      \"properties\": {\n        \"dtype\": \"number\",\n        \"std\": 26,\n        \"min\": 0,\n        \"max\": 98,\n        \"num_unique_values\": 88,\n        \"samples\": [\n          31,\n          2\n        ],\n        \"semantic_type\": \"\",\n        \"description\": \"\"\n      }\n    },\n    {\n      \"column\": \"Discussion\",\n      \"properties\": {\n        \"dtype\": \"number\",\n        \"std\": 27,\n        \"min\": 1,\n        \"max\": 99,\n        \"num_unique_values\": 90,\n        \"samples\": [\n          89,\n          88\n        ],\n        \"semantic_type\": \"\",\n        \"description\": \"\"\n      }\n    },\n    {\n      \"column\": \"ParentAnsweringSurvey\",\n      \"properties\": {\n        \"dtype\": \"category\",\n        \"num_unique_values\": 2,\n        \"samples\": [\n          \"No\",\n          \"Yes\"\n        ],\n        \"semantic_type\": \"\",\n        \"description\": \"\"\n      }\n    },\n    {\n      \"column\": \"ParentschoolSatisfaction\",\n      \"properties\": {\n        \"dtype\": \"category\",\n        \"num_unique_values\": 2,\n        \"samples\": [\n          \"Bad\",\n          \"Good\"\n        ],\n        \"semantic_type\": \"\",\n        \"description\": \"\"\n      }\n    },\n    {\n      \"column\": \"StudentAbsenceDays\",\n      \"properties\": {\n        \"dtype\": \"category\",\n        \"num_unique_values\": 2,\n        \"samples\": [\n          \"Above-7\",\n          \"Under-7\"\n        ],\n        \"semantic_type\": \"\",\n        \"description\": \"\"\n      }\n    },\n    {\n      \"column\": \"Class\",\n      \"properties\": {\n        \"dtype\": \"category\",\n        \"num_unique_values\": 3,\n        \"samples\": [\n          \"M\",\n          \"L\"\n        ],\n        \"semantic_type\": \"\",\n        \"description\": \"\"\n      }\n    }\n  ]\n}"
            }
          },
          "metadata": {},
          "execution_count": 141
        }
      ]
    },
    {
      "cell_type": "code",
      "source": [
        "#preprocess the data set\n",
        "\n",
        "#handling missing values-Check whether have missing values\n",
        "dataset.isnull().sum()"
      ],
      "metadata": {
        "colab": {
          "base_uri": "https://localhost:8080/"
        },
        "id": "y_6GR7ZwNhuQ",
        "outputId": "2fd7074c-b3c0-47ff-d8eb-584c0c17b430"
      },
      "execution_count": 142,
      "outputs": [
        {
          "output_type": "execute_result",
          "data": {
            "text/plain": [
              "gender                      0\n",
              "NationalITy                 0\n",
              "PlaceofBirth                0\n",
              "StageID                     0\n",
              "GradeID                     0\n",
              "SectionID                   0\n",
              "Topic                       0\n",
              "Semester                    0\n",
              "Relation                    0\n",
              "raisedhands                 0\n",
              "VisITedResources            0\n",
              "AnnouncementsView           0\n",
              "Discussion                  0\n",
              "ParentAnsweringSurvey       0\n",
              "ParentschoolSatisfaction    0\n",
              "StudentAbsenceDays          0\n",
              "Class                       0\n",
              "dtype: int64"
            ]
          },
          "metadata": {},
          "execution_count": 142
        }
      ]
    },
    {
      "cell_type": "code",
      "source": [
        "#Display unique labels for each column\n",
        "for column in dataset.columns:\n",
        "    unique_labels = dataset[column].unique()\n",
        "    print(f\"Unique labels in '{column}': {unique_labels}\")"
      ],
      "metadata": {
        "colab": {
          "base_uri": "https://localhost:8080/"
        },
        "id": "E--9GATiU-Bn",
        "outputId": "02cff1c0-39ff-4938-a7a0-1f0c5501ba4f"
      },
      "execution_count": 143,
      "outputs": [
        {
          "output_type": "stream",
          "name": "stdout",
          "text": [
            "Unique labels in 'gender': ['M' 'F']\n",
            "Unique labels in 'NationalITy': ['KW' 'lebanon' 'Egypt' 'SaudiArabia' 'USA' 'Jordan' 'venzuela' 'Iran'\n",
            " 'Tunis' 'Morocco' 'Syria' 'Palestine' 'Iraq' 'Lybia']\n",
            "Unique labels in 'PlaceofBirth': ['KuwaIT' 'lebanon' 'Egypt' 'SaudiArabia' 'USA' 'Jordan' 'venzuela' 'Iran'\n",
            " 'Tunis' 'Morocco' 'Syria' 'Iraq' 'Palestine' 'Lybia']\n",
            "Unique labels in 'StageID': ['lowerlevel' 'MiddleSchool' 'HighSchool']\n",
            "Unique labels in 'GradeID': ['G-04' 'G-07' 'G-08' 'G-06' 'G-05' 'G-09' 'G-12' 'G-11' 'G-10' 'G-02']\n",
            "Unique labels in 'SectionID': ['A' 'B' 'C']\n",
            "Unique labels in 'Topic': ['IT' 'Math' 'Arabic' 'Science' 'English' 'Quran' 'Spanish' 'French'\n",
            " 'History' 'Biology' 'Chemistry' 'Geology']\n",
            "Unique labels in 'Semester': ['F' 'S']\n",
            "Unique labels in 'Relation': ['Father' 'Mum']\n",
            "Unique labels in 'raisedhands': [ 15  20  10  30  40  42  35  50  12  70  19   5  62  36  55  69  60   2\n",
            "   0   8  25  75   4  45  14  33   7  13  29  39  49  16  28  27  21  80\n",
            "  17  65  22  11   1   3 100   6  90  77  24  66  23  82  72  51  85  87\n",
            "  95  81  53  92  83  67  96  57  73   9  32  52  59  61  79  18  74  97\n",
            "  41  71  98  78  89  88  86  76  99  84]\n",
            "Unique labels in 'VisITedResources': [16 20  7 25 50 30 12 10 21 80 88  6  1 14 70 40 13 15 60  0  2 19 85 90\n",
            "  5 22 11 54 35 33  4 39 75 69  3  8 89 44 92 26 27 29 98  9 42 65 79 55\n",
            " 63 91 51 58 68 82 72 52 62 71 66 43 95 31 41 81 61 83 84 17 94 48 86 74\n",
            " 76 97 87 99 34 64 28 38 36 24 59 57 77 18 93 96 78]\n",
            "Unique labels in 'AnnouncementsView': [ 2  3  0  5 12 13 15 16 25 30 19 44 22 20 35 36 40 33  4 52 50 10  9  8\n",
            " 17 26 37  7 28  1 39  6 32 70 18 23 11 29 49 55 38 41 51 95 85 71 98 73\n",
            " 48 58 93 83 53 63 62 82 72 42 46 77 21 88 66 86 80 56 91 65 76 24 74 59\n",
            " 79 34 69 89 31 60 54 57 64 87 75 67 43 45 14 78]\n",
            "Unique labels in 'Discussion': [20 25 30 35 50 70 17 22 80 12 11 19 60 66 90 96 99 40 33 43 16  4 88 77\n",
            " 75  1  5  2  8 13 44  9 55 10 15  7  3 14 69 59 89 41 91 49 73 23 53 93\n",
            " 51 83 24 84 61 94 34 81 29 46 26  6 76 86 85 65 95 64 32 37 36 27 39 74\n",
            " 79 21 31 28 38 48 97 98 63 72 82 71 45 68 92 58 57 62]\n",
            "Unique labels in 'ParentAnsweringSurvey': ['Yes' 'No']\n",
            "Unique labels in 'ParentschoolSatisfaction': ['Good' 'Bad']\n",
            "Unique labels in 'StudentAbsenceDays': ['Under-7' 'Above-7']\n",
            "Unique labels in 'Class': ['M' 'L' 'H']\n"
          ]
        }
      ]
    },
    {
      "cell_type": "code",
      "source": [
        "# Display unique labels as counts for each column\n",
        "for column in dataset.columns:\n",
        "     print(f\"Unique labels and counts in '{column}':\\n{dataset[column].value_counts()}\\n\")"
      ],
      "metadata": {
        "colab": {
          "base_uri": "https://localhost:8080/"
        },
        "id": "na3-DwrnWjPa",
        "outputId": "c000e77f-0dba-4f5a-fd1e-d418b27504a4"
      },
      "execution_count": 144,
      "outputs": [
        {
          "output_type": "stream",
          "name": "stdout",
          "text": [
            "Unique labels and counts in 'gender':\n",
            "gender\n",
            "M    305\n",
            "F    175\n",
            "Name: count, dtype: int64\n",
            "\n",
            "Unique labels and counts in 'NationalITy':\n",
            "NationalITy\n",
            "KW             179\n",
            "Jordan         172\n",
            "Palestine       28\n",
            "Iraq            22\n",
            "lebanon         17\n",
            "Tunis           12\n",
            "SaudiArabia     11\n",
            "Egypt            9\n",
            "Syria            7\n",
            "USA              6\n",
            "Iran             6\n",
            "Lybia            6\n",
            "Morocco          4\n",
            "venzuela         1\n",
            "Name: count, dtype: int64\n",
            "\n",
            "Unique labels and counts in 'PlaceofBirth':\n",
            "PlaceofBirth\n",
            "KuwaIT         180\n",
            "Jordan         176\n",
            "Iraq            22\n",
            "lebanon         19\n",
            "SaudiArabia     16\n",
            "USA             16\n",
            "Palestine       10\n",
            "Egypt            9\n",
            "Tunis            9\n",
            "Iran             6\n",
            "Syria            6\n",
            "Lybia            6\n",
            "Morocco          4\n",
            "venzuela         1\n",
            "Name: count, dtype: int64\n",
            "\n",
            "Unique labels and counts in 'StageID':\n",
            "StageID\n",
            "MiddleSchool    248\n",
            "lowerlevel      199\n",
            "HighSchool       33\n",
            "Name: count, dtype: int64\n",
            "\n",
            "Unique labels and counts in 'GradeID':\n",
            "GradeID\n",
            "G-02    147\n",
            "G-08    116\n",
            "G-07    101\n",
            "G-04     48\n",
            "G-06     32\n",
            "G-11     13\n",
            "G-12     11\n",
            "G-09      5\n",
            "G-10      4\n",
            "G-05      3\n",
            "Name: count, dtype: int64\n",
            "\n",
            "Unique labels and counts in 'SectionID':\n",
            "SectionID\n",
            "A    283\n",
            "B    167\n",
            "C     30\n",
            "Name: count, dtype: int64\n",
            "\n",
            "Unique labels and counts in 'Topic':\n",
            "Topic\n",
            "IT           95\n",
            "French       65\n",
            "Arabic       59\n",
            "Science      51\n",
            "English      45\n",
            "Biology      30\n",
            "Spanish      25\n",
            "Chemistry    24\n",
            "Geology      24\n",
            "Quran        22\n",
            "Math         21\n",
            "History      19\n",
            "Name: count, dtype: int64\n",
            "\n",
            "Unique labels and counts in 'Semester':\n",
            "Semester\n",
            "F    245\n",
            "S    235\n",
            "Name: count, dtype: int64\n",
            "\n",
            "Unique labels and counts in 'Relation':\n",
            "Relation\n",
            "Father    283\n",
            "Mum       197\n",
            "Name: count, dtype: int64\n",
            "\n",
            "Unique labels and counts in 'raisedhands':\n",
            "raisedhands\n",
            "10    31\n",
            "70    31\n",
            "80    28\n",
            "72    17\n",
            "50    17\n",
            "      ..\n",
            "61     1\n",
            "83     1\n",
            "52     1\n",
            "67     1\n",
            "97     1\n",
            "Name: count, Length: 82, dtype: int64\n",
            "\n",
            "Unique labels and counts in 'VisITedResources':\n",
            "VisITedResources\n",
            "80    29\n",
            "90    29\n",
            "82    16\n",
            "12    13\n",
            "88    13\n",
            "      ..\n",
            "63     1\n",
            "55     1\n",
            "54     1\n",
            "1      1\n",
            "78     1\n",
            "Name: count, Length: 89, dtype: int64\n",
            "\n",
            "Unique labels and counts in 'AnnouncementsView':\n",
            "AnnouncementsView\n",
            "12    21\n",
            "42    16\n",
            "50    16\n",
            "40    16\n",
            "2     14\n",
            "      ..\n",
            "93     1\n",
            "17     1\n",
            "24     1\n",
            "91     1\n",
            "78     1\n",
            "Name: count, Length: 88, dtype: int64\n",
            "\n",
            "Unique labels and counts in 'Discussion':\n",
            "Discussion\n",
            "70    24\n",
            "40    23\n",
            "33    21\n",
            "50    18\n",
            "30    17\n",
            "      ..\n",
            "95     1\n",
            "65     1\n",
            "76     1\n",
            "73     1\n",
            "62     1\n",
            "Name: count, Length: 90, dtype: int64\n",
            "\n",
            "Unique labels and counts in 'ParentAnsweringSurvey':\n",
            "ParentAnsweringSurvey\n",
            "Yes    270\n",
            "No     210\n",
            "Name: count, dtype: int64\n",
            "\n",
            "Unique labels and counts in 'ParentschoolSatisfaction':\n",
            "ParentschoolSatisfaction\n",
            "Good    292\n",
            "Bad     188\n",
            "Name: count, dtype: int64\n",
            "\n",
            "Unique labels and counts in 'StudentAbsenceDays':\n",
            "StudentAbsenceDays\n",
            "Under-7    289\n",
            "Above-7    191\n",
            "Name: count, dtype: int64\n",
            "\n",
            "Unique labels and counts in 'Class':\n",
            "Class\n",
            "M    211\n",
            "H    142\n",
            "L    127\n",
            "Name: count, dtype: int64\n",
            "\n"
          ]
        }
      ]
    },
    {
      "cell_type": "code",
      "source": [
        "#Encoding Categorical Variables(converting categorical data into a numerical format)\n",
        "\n",
        "from sklearn.preprocessing import LabelEncoder\n",
        "\n",
        "#first seperate dataset into X and Y axis as features and label\n",
        "X = dataset.drop('Class', axis=1)\n",
        "y = dataset['Class']\n",
        "\n",
        "\n",
        "# Applying LabelEncoder to all above categorical feature coloumns convertion(This converts each categorical feature into a set of binary (0/1) columns)\n",
        "le = LabelEncoder()\n",
        "# List of categorical features want to covert to numerical\n",
        "categorical_features = ['gender', 'NationalITy', 'PlaceofBirth', 'StageID', 'GradeID', 'SectionID', 'Topic', 'Semester', 'Relation', 'ParentAnsweringSurvey', 'ParentschoolSatisfaction', 'StudentAbsenceDays']\n",
        "for column in categorical_features:\n",
        "  if column in X.columns:\n",
        "    X[column] = le.fit_transform(X[column])\n",
        "\n",
        "# Apply LabelEncoder to the target variable 'Class'\n",
        "y = le.fit_transform(y)\n",
        "# Assign the encoded values back to the dataset\n",
        "dataset['Class'] = y"
      ],
      "metadata": {
        "id": "qjq4--a5Nhhx"
      },
      "execution_count": 145,
      "outputs": []
    },
    {
      "cell_type": "code",
      "source": [
        "# Check the shape of the DataFrame\n",
        "print(\"Shape of the  X dataset after encoding:\", X.shape)\n",
        "print(\"Shape of the dataset after encoding:\", dataset.shape)"
      ],
      "metadata": {
        "colab": {
          "base_uri": "https://localhost:8080/"
        },
        "id": "45kpXihprUQK",
        "outputId": "3ce1ff35-e020-44ea-dd2f-d6f3d6e498b0"
      },
      "execution_count": 146,
      "outputs": [
        {
          "output_type": "stream",
          "name": "stdout",
          "text": [
            "Shape of the  X dataset after encoding: (480, 16)\n",
            "Shape of the dataset after encoding: (480, 17)\n"
          ]
        }
      ]
    },
    {
      "cell_type": "code",
      "source": [
        "#check whether that transformations have been applied correctly or not-by checking the data types and first few rows\n",
        "\n",
        "# About X features-->after encoding all X coloumns gives as 'X'\n",
        "print(type(X))\n",
        "print(\"Data types of X columns after encoding:\\n\", X.dtypes)\n",
        "print(X[:5])\n",
        "print('\\n\\n\\n')\n",
        "\n",
        "# About whole dataset\n",
        "print(type(dataset))\n",
        "print(\"Data types of all columns after encoding:\\n\", dataset.dtypes)\n",
        "print(dataset[:20])"
      ],
      "metadata": {
        "colab": {
          "base_uri": "https://localhost:8080/"
        },
        "id": "h_vIXXC5SV07",
        "outputId": "41deee50-fabc-4cf2-cac0-985381b31293"
      },
      "execution_count": 147,
      "outputs": [
        {
          "output_type": "stream",
          "name": "stdout",
          "text": [
            "<class 'pandas.core.frame.DataFrame'>\n",
            "Data types of X columns after encoding:\n",
            " gender                      int64\n",
            "NationalITy                 int64\n",
            "PlaceofBirth                int64\n",
            "StageID                     int64\n",
            "GradeID                     int64\n",
            "SectionID                   int64\n",
            "Topic                       int64\n",
            "Semester                    int64\n",
            "Relation                    int64\n",
            "raisedhands                 int64\n",
            "VisITedResources            int64\n",
            "AnnouncementsView           int64\n",
            "Discussion                  int64\n",
            "ParentAnsweringSurvey       int64\n",
            "ParentschoolSatisfaction    int64\n",
            "StudentAbsenceDays          int64\n",
            "dtype: object\n",
            "   gender  NationalITy  PlaceofBirth  StageID  GradeID  SectionID  Topic  \\\n",
            "0       1            4             4        2        1          0      7   \n",
            "1       1            4             4        2        1          0      7   \n",
            "2       1            4             4        2        1          0      7   \n",
            "3       1            4             4        2        1          0      7   \n",
            "4       1            4             4        2        1          0      7   \n",
            "\n",
            "   Semester  Relation  raisedhands  VisITedResources  AnnouncementsView  \\\n",
            "0         0         0           15                16                  2   \n",
            "1         0         0           20                20                  3   \n",
            "2         0         0           10                 7                  0   \n",
            "3         0         0           30                25                  5   \n",
            "4         0         0           40                50                 12   \n",
            "\n",
            "   Discussion  ParentAnsweringSurvey  ParentschoolSatisfaction  \\\n",
            "0          20                      1                         1   \n",
            "1          25                      1                         1   \n",
            "2          30                      0                         0   \n",
            "3          35                      0                         0   \n",
            "4          50                      0                         0   \n",
            "\n",
            "   StudentAbsenceDays  \n",
            "0                   1  \n",
            "1                   1  \n",
            "2                   0  \n",
            "3                   0  \n",
            "4                   0  \n",
            "\n",
            "\n",
            "\n",
            "\n",
            "<class 'pandas.core.frame.DataFrame'>\n",
            "Data types of all columns after encoding:\n",
            " gender                      object\n",
            "NationalITy                 object\n",
            "PlaceofBirth                object\n",
            "StageID                     object\n",
            "GradeID                     object\n",
            "SectionID                   object\n",
            "Topic                       object\n",
            "Semester                    object\n",
            "Relation                    object\n",
            "raisedhands                  int64\n",
            "VisITedResources             int64\n",
            "AnnouncementsView            int64\n",
            "Discussion                   int64\n",
            "ParentAnsweringSurvey       object\n",
            "ParentschoolSatisfaction    object\n",
            "StudentAbsenceDays          object\n",
            "Class                        int64\n",
            "dtype: object\n",
            "   gender NationalITy PlaceofBirth       StageID GradeID SectionID Topic  \\\n",
            "0       M          KW       KuwaIT    lowerlevel    G-04         A    IT   \n",
            "1       M          KW       KuwaIT    lowerlevel    G-04         A    IT   \n",
            "2       M          KW       KuwaIT    lowerlevel    G-04         A    IT   \n",
            "3       M          KW       KuwaIT    lowerlevel    G-04         A    IT   \n",
            "4       M          KW       KuwaIT    lowerlevel    G-04         A    IT   \n",
            "5       F          KW       KuwaIT    lowerlevel    G-04         A    IT   \n",
            "6       M          KW       KuwaIT  MiddleSchool    G-07         A  Math   \n",
            "7       M          KW       KuwaIT  MiddleSchool    G-07         A  Math   \n",
            "8       F          KW       KuwaIT  MiddleSchool    G-07         A  Math   \n",
            "9       F          KW       KuwaIT  MiddleSchool    G-07         B    IT   \n",
            "10      M          KW       KuwaIT  MiddleSchool    G-07         A  Math   \n",
            "11      M          KW       KuwaIT  MiddleSchool    G-07         B  Math   \n",
            "12      M          KW       KuwaIT    lowerlevel    G-04         A    IT   \n",
            "13      M     lebanon      lebanon  MiddleSchool    G-08         A  Math   \n",
            "14      F          KW       KuwaIT  MiddleSchool    G-08         A  Math   \n",
            "15      F          KW       KuwaIT  MiddleSchool    G-06         A    IT   \n",
            "16      M          KW       KuwaIT  MiddleSchool    G-07         B    IT   \n",
            "17      M          KW       KuwaIT  MiddleSchool    G-07         A  Math   \n",
            "18      F          KW       KuwaIT  MiddleSchool    G-07         A    IT   \n",
            "19      M          KW       KuwaIT  MiddleSchool    G-07         B    IT   \n",
            "\n",
            "   Semester Relation  raisedhands  VisITedResources  AnnouncementsView  \\\n",
            "0         F   Father           15                16                  2   \n",
            "1         F   Father           20                20                  3   \n",
            "2         F   Father           10                 7                  0   \n",
            "3         F   Father           30                25                  5   \n",
            "4         F   Father           40                50                 12   \n",
            "5         F   Father           42                30                 13   \n",
            "6         F   Father           35                12                  0   \n",
            "7         F   Father           50                10                 15   \n",
            "8         F   Father           12                21                 16   \n",
            "9         F   Father           70                80                 25   \n",
            "10        F   Father           50                88                 30   \n",
            "11        F   Father           19                 6                 19   \n",
            "12        F   Father            5                 1                  0   \n",
            "13        F   Father           20                14                 12   \n",
            "14        F      Mum           62                70                 44   \n",
            "15        F   Father           30                40                 22   \n",
            "16        F   Father           36                30                 20   \n",
            "17        F   Father           55                13                 35   \n",
            "18        F      Mum           69                15                 36   \n",
            "19        F      Mum           70                50                 40   \n",
            "\n",
            "    Discussion ParentAnsweringSurvey ParentschoolSatisfaction  \\\n",
            "0           20                   Yes                     Good   \n",
            "1           25                   Yes                     Good   \n",
            "2           30                    No                      Bad   \n",
            "3           35                    No                      Bad   \n",
            "4           50                    No                      Bad   \n",
            "5           70                   Yes                      Bad   \n",
            "6           17                    No                      Bad   \n",
            "7           22                   Yes                     Good   \n",
            "8           50                   Yes                     Good   \n",
            "9           70                   Yes                     Good   \n",
            "10          80                   Yes                     Good   \n",
            "11          12                   Yes                     Good   \n",
            "12          11                    No                      Bad   \n",
            "13          19                    No                      Bad   \n",
            "14          60                    No                      Bad   \n",
            "15          66                   Yes                     Good   \n",
            "16          80                    No                      Bad   \n",
            "17          90                    No                      Bad   \n",
            "18          96                   Yes                     Good   \n",
            "19          99                   Yes                     Good   \n",
            "\n",
            "   StudentAbsenceDays  Class  \n",
            "0             Under-7      2  \n",
            "1             Under-7      2  \n",
            "2             Above-7      1  \n",
            "3             Above-7      1  \n",
            "4             Above-7      2  \n",
            "5             Above-7      2  \n",
            "6             Above-7      1  \n",
            "7             Under-7      2  \n",
            "8             Under-7      2  \n",
            "9             Under-7      2  \n",
            "10            Under-7      0  \n",
            "11            Under-7      2  \n",
            "12            Above-7      1  \n",
            "13            Above-7      1  \n",
            "14            Above-7      0  \n",
            "15            Under-7      2  \n",
            "16            Above-7      2  \n",
            "17            Above-7      2  \n",
            "18            Under-7      2  \n",
            "19            Under-7      0  \n"
          ]
        }
      ]
    },
    {
      "cell_type": "code",
      "source": [
        "#Scaling only for Numerical Features[only for coloumns of X]\n",
        "from sklearn.preprocessing import StandardScaler\n",
        "\n",
        "# Initialize the StandardScaler with with_mean=False(option to avoid centering)\n",
        "scaler = StandardScaler(with_mean=False)\n",
        "\n",
        "# Apply scaling\n",
        "X_scaled = scaler.fit_transform(X)"
      ],
      "metadata": {
        "id": "huc0m8bUSVrJ"
      },
      "execution_count": 148,
      "outputs": []
    },
    {
      "cell_type": "code",
      "source": [
        "#checking whether that scaling has been applied by:-\n",
        "\n",
        "# 1)by checking the Shape of X_scaled\n",
        "print(X_scaled.shape)\n",
        "print(type(X_scaled))\n",
        "print(X_scaled[:5])\n",
        "print(\"\\n\\n\\n\")\n",
        "\n",
        "# 2)by computing mean and standard deviation of each feature\n",
        "X_dense = X_scaled.toarray() if hasattr(X_scaled, 'toarray') else X_scaled #want to convert to dense array if it's a sparse matrix\n",
        "# Compute mean and standard deviation\n",
        "means = np.mean(X_dense, axis=0)\n",
        "std_devs = np.std(X_dense, axis=0)\n",
        "\n",
        "print(\"Means of features:\\n\", means)\n",
        "print(\"Standard deviations of features:\\n\", std_devs)"
      ],
      "metadata": {
        "colab": {
          "base_uri": "https://localhost:8080/"
        },
        "id": "_c1cF3NrSVng",
        "outputId": "dd1b3926-d1e6-4872-d4eb-f910ac3acd33"
      },
      "execution_count": 149,
      "outputs": [
        {
          "output_type": "stream",
          "name": "stdout",
          "text": [
            "(480, 16)\n",
            "<class 'numpy.ndarray'>\n",
            "[[2.07764955 1.62160543 1.52346459 3.31618583 0.40622354 0.\n",
            "  2.06803458 0.         0.         0.48785019 0.48418046 0.07523461\n",
            "  0.72440328 2.01581052 2.04866471 2.04303418]\n",
            " [2.07764955 1.62160543 1.52346459 3.31618583 0.40622354 0.\n",
            "  2.06803458 0.         0.         0.65046691 0.60522557 0.11285192\n",
            "  0.9055041  2.01581052 2.04866471 2.04303418]\n",
            " [2.07764955 1.62160543 1.52346459 3.31618583 0.40622354 0.\n",
            "  2.06803458 0.         0.         0.32523346 0.21182895 0.\n",
            "  1.08660492 0.         0.         0.        ]\n",
            " [2.07764955 1.62160543 1.52346459 3.31618583 0.40622354 0.\n",
            "  2.06803458 0.         0.         0.97570037 0.75653196 0.18808653\n",
            "  1.26770574 0.         0.         0.        ]\n",
            " [2.07764955 1.62160543 1.52346459 3.31618583 0.40622354 0.\n",
            "  2.06803458 0.         0.         1.30093383 1.51306393 0.45140767\n",
            "  1.8110082  0.         0.         0.        ]]\n",
            "\n",
            "\n",
            "\n",
            "\n",
            "Means of features:\n",
            " [1.32017315 1.76180673 1.67501757 2.23151671 1.18058717 0.77302608\n",
            " 1.55287239 0.97937923 0.83433391 1.5212795  1.65825502 1.4264012\n",
            " 1.56772943 1.13389342 1.24627103 1.23007683]\n",
            "Standard deviations of features:\n",
            " [1. 1. 1. 1. 1. 1. 1. 1. 1. 1. 1. 1. 1. 1. 1. 1.]\n"
          ]
        }
      ]
    },
    {
      "cell_type": "code",
      "source": [
        "#Split the dataset into training and validation sets\n",
        "\n",
        "from sklearn.model_selection import train_test_split\n",
        "\n",
        "# Split the dataset into training and validation sets\n",
        "X_train, X_val, y_train, y_val = train_test_split(X_scaled, y, test_size=0.2, random_state=42) #Assuming as 80%-training , 20%-testing"
      ],
      "metadata": {
        "id": "tc8gw3wgSVb6"
      },
      "execution_count": 150,
      "outputs": []
    },
    {
      "cell_type": "code",
      "source": [
        "#Inspect the newly divided dataset after splitting into training and validation sets\n",
        "print(\"Shape of whole dataset:\", dataset.shape)\n",
        "print(\"Shape of X_train:\", X_train.shape)\n",
        "print(\"Shape of X_val:\", X_val.shape)\n",
        "print(\"Shape of y_train:\", y_train.shape)\n",
        "print(\"Shape of y_val:\", y_val.shape)"
      ],
      "metadata": {
        "colab": {
          "base_uri": "https://localhost:8080/"
        },
        "id": "9CejuEIRmc-a",
        "outputId": "ad781628-492d-4305-85d4-63ff4bb793c9"
      },
      "execution_count": 151,
      "outputs": [
        {
          "output_type": "stream",
          "name": "stdout",
          "text": [
            "Shape of whole dataset: (480, 17)\n",
            "Shape of X_train: (384, 16)\n",
            "Shape of X_val: (96, 16)\n",
            "Shape of y_train: (384,)\n",
            "Shape of y_val: (96,)\n"
          ]
        }
      ]
    },
    {
      "cell_type": "markdown",
      "source": [
        "#Model Design"
      ],
      "metadata": {
        "id": "judNivUUIsk3"
      }
    },
    {
      "cell_type": "code",
      "source": [
        "#define the model\n",
        "\n",
        "model = models.Sequential()\n",
        "model.add(layers.Dense(128, activation='relu', input_shape=(X_train.shape[1],)))\n",
        "model.add(layers.Dropout(0.2))  # Dropout to prevent overfitting\n",
        "model.add(layers.Dense(64, activation='relu'))\n",
        "model.add(layers.Dropout(0.2))  # Dropout to prevent overfitting\n",
        "model.add(layers.Dense(32, activation='relu'))\n",
        "model.add(layers.Dropout(0.2))  # Dropout to prevent overfitting\n",
        "model.add(layers.Dense(3, activation='softmax'))  # 3 classes (H, M, L) for output layer\n",
        "\n",
        "# Compile the model\n",
        "model.compile(optimizer='adam', loss='sparse_categorical_crossentropy', metrics=['accuracy'])"
      ],
      "metadata": {
        "id": "5R0O7BN2q_kz"
      },
      "execution_count": 152,
      "outputs": []
    },
    {
      "cell_type": "markdown",
      "source": [
        "#Training"
      ],
      "metadata": {
        "id": "hl-8j2OrVnqe"
      }
    },
    {
      "cell_type": "code",
      "source": [
        "#implement early stopping to prevent overfitting\n",
        "early_stopping = tf.keras.callbacks.EarlyStopping(patience=5, restore_best_weights=True)\n",
        "\n",
        "#Train the model\n",
        "history = model.fit(X_train, y_train, epochs=100,batch_size=32,validation_data=(X_val, y_val), callbacks=[early_stopping])"
      ],
      "metadata": {
        "colab": {
          "base_uri": "https://localhost:8080/"
        },
        "id": "mCn97y23q_hk",
        "outputId": "b01a051c-b245-4903-de4a-54378059e49b"
      },
      "execution_count": 153,
      "outputs": [
        {
          "output_type": "stream",
          "name": "stdout",
          "text": [
            "Epoch 1/100\n",
            "12/12 [==============================] - 1s 23ms/step - loss: 1.1759 - accuracy: 0.3958 - val_loss: 1.0143 - val_accuracy: 0.4479\n",
            "Epoch 2/100\n",
            "12/12 [==============================] - 0s 6ms/step - loss: 1.0734 - accuracy: 0.3854 - val_loss: 0.9699 - val_accuracy: 0.4271\n",
            "Epoch 3/100\n",
            "12/12 [==============================] - 0s 6ms/step - loss: 0.9763 - accuracy: 0.5130 - val_loss: 0.8856 - val_accuracy: 0.5833\n",
            "Epoch 4/100\n",
            "12/12 [==============================] - 0s 8ms/step - loss: 0.9204 - accuracy: 0.5156 - val_loss: 0.8241 - val_accuracy: 0.6250\n",
            "Epoch 5/100\n",
            "12/12 [==============================] - 0s 8ms/step - loss: 0.8471 - accuracy: 0.5833 - val_loss: 0.7630 - val_accuracy: 0.6146\n",
            "Epoch 6/100\n",
            "12/12 [==============================] - 0s 6ms/step - loss: 0.7999 - accuracy: 0.6094 - val_loss: 0.7198 - val_accuracy: 0.6250\n",
            "Epoch 7/100\n",
            "12/12 [==============================] - 0s 7ms/step - loss: 0.7726 - accuracy: 0.6302 - val_loss: 0.6571 - val_accuracy: 0.7188\n",
            "Epoch 8/100\n",
            "12/12 [==============================] - 0s 8ms/step - loss: 0.7677 - accuracy: 0.6484 - val_loss: 0.6377 - val_accuracy: 0.7500\n",
            "Epoch 9/100\n",
            "12/12 [==============================] - 0s 7ms/step - loss: 0.7503 - accuracy: 0.6354 - val_loss: 0.6345 - val_accuracy: 0.7396\n",
            "Epoch 10/100\n",
            "12/12 [==============================] - 0s 5ms/step - loss: 0.6997 - accuracy: 0.7005 - val_loss: 0.6207 - val_accuracy: 0.7188\n",
            "Epoch 11/100\n",
            "12/12 [==============================] - 0s 6ms/step - loss: 0.6760 - accuracy: 0.6641 - val_loss: 0.5853 - val_accuracy: 0.7396\n",
            "Epoch 12/100\n",
            "12/12 [==============================] - 0s 6ms/step - loss: 0.6667 - accuracy: 0.6797 - val_loss: 0.5835 - val_accuracy: 0.7292\n",
            "Epoch 13/100\n",
            "12/12 [==============================] - 0s 7ms/step - loss: 0.6447 - accuracy: 0.7318 - val_loss: 0.5693 - val_accuracy: 0.7292\n",
            "Epoch 14/100\n",
            "12/12 [==============================] - 0s 6ms/step - loss: 0.6554 - accuracy: 0.7057 - val_loss: 0.5764 - val_accuracy: 0.7188\n",
            "Epoch 15/100\n",
            "12/12 [==============================] - 0s 6ms/step - loss: 0.6189 - accuracy: 0.7266 - val_loss: 0.5696 - val_accuracy: 0.7396\n",
            "Epoch 16/100\n",
            "12/12 [==============================] - 0s 9ms/step - loss: 0.6062 - accuracy: 0.7005 - val_loss: 0.5662 - val_accuracy: 0.7292\n",
            "Epoch 17/100\n",
            "12/12 [==============================] - 0s 8ms/step - loss: 0.5896 - accuracy: 0.7240 - val_loss: 0.5573 - val_accuracy: 0.7604\n",
            "Epoch 18/100\n",
            "12/12 [==============================] - 0s 6ms/step - loss: 0.5717 - accuracy: 0.7552 - val_loss: 0.5636 - val_accuracy: 0.7396\n",
            "Epoch 19/100\n",
            "12/12 [==============================] - 0s 7ms/step - loss: 0.5950 - accuracy: 0.7240 - val_loss: 0.5674 - val_accuracy: 0.7188\n",
            "Epoch 20/100\n",
            "12/12 [==============================] - 0s 8ms/step - loss: 0.5676 - accuracy: 0.7630 - val_loss: 0.5463 - val_accuracy: 0.7604\n",
            "Epoch 21/100\n",
            "12/12 [==============================] - 0s 6ms/step - loss: 0.5501 - accuracy: 0.7682 - val_loss: 0.5422 - val_accuracy: 0.7396\n",
            "Epoch 22/100\n",
            "12/12 [==============================] - 0s 8ms/step - loss: 0.5430 - accuracy: 0.7734 - val_loss: 0.5701 - val_accuracy: 0.7708\n",
            "Epoch 23/100\n",
            "12/12 [==============================] - 0s 9ms/step - loss: 0.5350 - accuracy: 0.7760 - val_loss: 0.5270 - val_accuracy: 0.7396\n",
            "Epoch 24/100\n",
            "12/12 [==============================] - 0s 7ms/step - loss: 0.5180 - accuracy: 0.7760 - val_loss: 0.5204 - val_accuracy: 0.7708\n",
            "Epoch 25/100\n",
            "12/12 [==============================] - 0s 7ms/step - loss: 0.5151 - accuracy: 0.7578 - val_loss: 0.5384 - val_accuracy: 0.7812\n",
            "Epoch 26/100\n",
            "12/12 [==============================] - 1s 47ms/step - loss: 0.5144 - accuracy: 0.7917 - val_loss: 0.4985 - val_accuracy: 0.7917\n",
            "Epoch 27/100\n",
            "12/12 [==============================] - 0s 24ms/step - loss: 0.5062 - accuracy: 0.7917 - val_loss: 0.5024 - val_accuracy: 0.7708\n",
            "Epoch 28/100\n",
            "12/12 [==============================] - 0s 18ms/step - loss: 0.5437 - accuracy: 0.7708 - val_loss: 0.5273 - val_accuracy: 0.7812\n",
            "Epoch 29/100\n",
            "12/12 [==============================] - 0s 8ms/step - loss: 0.4990 - accuracy: 0.8073 - val_loss: 0.4676 - val_accuracy: 0.7812\n",
            "Epoch 30/100\n",
            "12/12 [==============================] - 0s 6ms/step - loss: 0.5106 - accuracy: 0.7682 - val_loss: 0.4855 - val_accuracy: 0.7917\n",
            "Epoch 31/100\n",
            "12/12 [==============================] - 0s 7ms/step - loss: 0.5327 - accuracy: 0.7708 - val_loss: 0.4830 - val_accuracy: 0.7708\n",
            "Epoch 32/100\n",
            "12/12 [==============================] - 0s 12ms/step - loss: 0.4851 - accuracy: 0.8073 - val_loss: 0.5208 - val_accuracy: 0.7708\n",
            "Epoch 33/100\n",
            "12/12 [==============================] - 0s 12ms/step - loss: 0.4599 - accuracy: 0.8021 - val_loss: 0.4862 - val_accuracy: 0.7917\n",
            "Epoch 34/100\n",
            "12/12 [==============================] - 0s 11ms/step - loss: 0.4718 - accuracy: 0.8125 - val_loss: 0.4976 - val_accuracy: 0.7812\n"
          ]
        }
      ]
    },
    {
      "cell_type": "code",
      "source": [
        "model.summary()"
      ],
      "metadata": {
        "colab": {
          "base_uri": "https://localhost:8080/"
        },
        "id": "gLRGNoOdXEyG",
        "outputId": "42108c3e-e162-4255-b3a9-9afc1bdf1be9"
      },
      "execution_count": 154,
      "outputs": [
        {
          "output_type": "stream",
          "name": "stdout",
          "text": [
            "Model: \"sequential_85\"\n",
            "_________________________________________________________________\n",
            " Layer (type)                Output Shape              Param #   \n",
            "=================================================================\n",
            " dense_340 (Dense)           (None, 128)               2176      \n",
            "                                                                 \n",
            " dropout_255 (Dropout)       (None, 128)               0         \n",
            "                                                                 \n",
            " dense_341 (Dense)           (None, 64)                8256      \n",
            "                                                                 \n",
            " dropout_256 (Dropout)       (None, 64)                0         \n",
            "                                                                 \n",
            " dense_342 (Dense)           (None, 32)                2080      \n",
            "                                                                 \n",
            " dropout_257 (Dropout)       (None, 32)                0         \n",
            "                                                                 \n",
            " dense_343 (Dense)           (None, 3)                 99        \n",
            "                                                                 \n",
            "=================================================================\n",
            "Total params: 12611 (49.26 KB)\n",
            "Trainable params: 12611 (49.26 KB)\n",
            "Non-trainable params: 0 (0.00 Byte)\n",
            "_________________________________________________________________\n"
          ]
        }
      ]
    },
    {
      "cell_type": "code",
      "source": [
        "import matplotlib.pyplot as plt\n",
        "\n",
        "# Plotting Loss\n",
        "plt.figure(figsize=(12, 6))\n",
        "\n",
        "#plotting Training loss and Validation Loss\n",
        "plt.subplot(1, 2, 1)\n",
        "plt.plot(history.history['loss'], label='Training Loss')\n",
        "plt.plot(history.history['val_loss'], label='Validation Loss')\n",
        "plt.title('Training and Validation Loss')\n",
        "plt.xlabel('Epochs')\n",
        "plt.ylabel('Loss')\n",
        "plt.legend()\n",
        "plt.show()"
      ],
      "metadata": {
        "colab": {
          "base_uri": "https://localhost:8080/",
          "height": 564
        },
        "id": "ai07UrRyDq9p",
        "outputId": "7abb5e96-160c-4d18-e394-cc16b7e93ab8"
      },
      "execution_count": 155,
      "outputs": [
        {
          "output_type": "display_data",
          "data": {
            "text/plain": [
              "<Figure size 1200x600 with 1 Axes>"
            ],
            "image/png": "[encoded data removed]"
          },
          "metadata": {}
        }
      ]
    },
    {
      "cell_type": "code",
      "source": [
        "#plotting Training accuracy and Validation accuracy\n",
        "plt.subplot(1, 2, 2)\n",
        "plt.plot(history.history['accuracy'], label='Training Accuracy')\n",
        "plt.plot(history.history['val_accuracy'], label='Validation Accuracy')\n",
        "plt.title('Training and Validation Accuracy')\n",
        "plt.xlabel('Epochs')\n",
        "plt.ylabel('Accuracy')\n",
        "plt.legend()\n",
        "plt.show()\n"
      ],
      "metadata": {
        "colab": {
          "base_uri": "https://localhost:8080/",
          "height": 472
        },
        "id": "hrXWFKJJDyGc",
        "outputId": "4c66cfdb-fcc4-4526-e841-f53aa7b3128c"
      },
      "execution_count": 156,
      "outputs": [
        {
          "output_type": "display_data",
          "data": {
            "text/plain": [
              "<Figure size 640x480 with 1 Axes>"
            ],
            "image/png": "[encoded data removed]"
          },
          "metadata": {}
        }
      ]
    },
    {
      "cell_type": "markdown",
      "source": [
        "#Evaluation"
      ],
      "metadata": {
        "id": "ji4sQif7ZZEn"
      }
    },
    {
      "cell_type": "code",
      "source": [
        "# Evaluate the model on the validation set using evaluate() method\n",
        "\n",
        "val_loss, val_accuracy = model.evaluate(X_val, y_val)\n",
        "print(f\"Validation Loss: {val_loss}\")\n",
        "print(f\"Validation Accuracy: {val_accuracy* 100:.2f}%\")#calculate accuracy as percentage value"
      ],
      "metadata": {
        "colab": {
          "base_uri": "https://localhost:8080/"
        },
        "id": "rYxcGgK6ZV09",
        "outputId": "1f06e4a6-ee1e-4421-a554-089d725807a9"
      },
      "execution_count": 157,
      "outputs": [
        {
          "output_type": "stream",
          "name": "stdout",
          "text": [
            "3/3 [==============================] - 0s 6ms/step - loss: 0.4676 - accuracy: 0.7812\n",
            "Validation Loss: 0.46760281920433044\n",
            "Validation Accuracy: 78.12%\n"
          ]
        }
      ]
    },
    {
      "cell_type": "code",
      "source": [
        "#print accuracy, loss, precision, recall, F1-score\n",
        "from sklearn.metrics import classification_report\n",
        "\n",
        "# Predict classes for evaluation\n",
        "y_pred = model.predict(X_val)\n",
        "y_pred_classes = y_pred.argmax(axis=1)\n",
        "\n",
        "# print classification report\n",
        "report = classification_report(y_val, y_pred_classes, target_names=['Class_H', 'Class_M', 'Class_L'])\n",
        "print(report)"
      ],
      "metadata": {
        "colab": {
          "base_uri": "https://localhost:8080/"
        },
        "id": "plzB3KqmYsHS",
        "outputId": "92d4de88-ee92-4f27-8cb8-bbb502a4ba6e"
      },
      "execution_count": 158,
      "outputs": [
        {
          "output_type": "stream",
          "name": "stderr",
          "text": [
            "WARNING:tensorflow:5 out of the last 37 calls to <function Model.make_predict_function.<locals>.predict_function at 0x791e36d21d80> triggered tf.function retracing. Tracing is expensive and the excessive number of tracings could be due to (1) creating @tf.function repeatedly in a loop, (2) passing tensors with different shapes, (3) passing Python objects instead of tensors. For (1), please define your @tf.function outside of the loop. For (2), @tf.function has reduce_retracing=True option that can avoid unnecessary retracing. For (3), please refer to https://www.tensorflow.org/guide/function#controlling_retracing and https://www.tensorflow.org/api_docs/python/tf/function for  more details.\n"
          ]
        },
        {
          "output_type": "stream",
          "name": "stdout",
          "text": [
            "3/3 [==============================] - 0s 6ms/step\n",
            "              precision    recall  f1-score   support\n",
            "\n",
            "     Class_H       0.68      0.68      0.68        22\n",
            "     Class_M       0.81      0.96      0.88        26\n",
            "     Class_L       0.81      0.73      0.77        48\n",
            "\n",
            "    accuracy                           0.78        96\n",
            "   macro avg       0.77      0.79      0.78        96\n",
            "weighted avg       0.78      0.78      0.78        96\n",
            "\n"
          ]
        }
      ]
    },
    {
      "cell_type": "markdown",
      "source": [
        "#Hyperparameter Tuning"
      ],
      "metadata": {
        "id": "h7ba8AHYeslm"
      }
    },
    {
      "cell_type": "code",
      "source": [
        "import tensorflow as tf\n",
        "from tensorflow.keras import layers, models\n",
        "\n",
        "def create_model(learning_rate=0.01, dropout_rate=0.2):\n",
        "    model = models.Sequential()\n",
        "    model.add(layers.Dense(128, activation='relu', input_shape=(X_train.shape[1],)))\n",
        "    model.add(layers.Dropout(dropout_rate))\n",
        "    model.add(layers.Dense(64, activation='relu'))\n",
        "    model.add(layers.Dropout(dropout_rate))\n",
        "    model.add(layers.Dense(32, activation='relu'))\n",
        "    model.add(layers.Dropout(dropout_rate))\n",
        "    model.add(layers.Dense(3, activation='softmax'))  # 3 classes (H, M, L)\n",
        "\n",
        "    model.compile(optimizer=tf.keras.optimizers.Adam(learning_rate=learning_rate),\n",
        "                  loss='sparse_categorical_crossentropy',\n",
        "                  metrics=['accuracy'])\n",
        "    return model\n"
      ],
      "metadata": {
        "id": "lIe8uTbVwt0e"
      },
      "execution_count": 159,
      "outputs": []
    },
    {
      "cell_type": "code",
      "source": [
        "import numpy as np\n",
        "from sklearn.metrics import accuracy_score\n",
        "\n",
        "# Define hyperparameter grid to specify the hyperparameters to be tested\n",
        "param_grid = {\n",
        "    'batch_size': [16, 32, 64],\n",
        "    'learning_rate': [0.001, 0.01, 0.1],\n",
        "    'dropout_rate': [0.2, 0.3, 0.4]\n",
        "}\n",
        "\n",
        "# Initialize variables to keep the best results\n",
        "best_score = 0\n",
        "best_params = {}\n",
        "\n",
        "# Iterate over each hyperparameter combination of of batch_size, learning_rate, and dropout_rate specified in param_grid\n",
        "for batch_size in param_grid['batch_size']:\n",
        "    for learning_rate in param_grid['learning_rate']:\n",
        "        for dropout_rate in param_grid['dropout_rate']:\n",
        "            print(f\"Testing with batch_size={batch_size}, learning_rate={learning_rate}, dropout_rate={dropout_rate}\")\n",
        "\n",
        "            #Create and train the model\n",
        "            model = create_model(learning_rate=learning_rate, dropout_rate=dropout_rate)\n",
        "            history = model.fit(X_train, y_train, epochs=100, batch_size=batch_size,\n",
        "                                validation_data=(X_val, y_val), verbose=0)\n",
        "\n",
        "            #Evaluate the model\n",
        "            val_loss, val_accuracy = model.evaluate(X_val, y_val, verbose=0)\n",
        "\n",
        "            print(f\"Validation Accuracy: {val_accuracy}\")\n",
        "\n",
        "            # Update the best parameters, if the current model’s validation accuracy is higher than the previously recorded best_score\n",
        "            if val_accuracy > best_score:\n",
        "                best_score = val_accuracy\n",
        "                best_params = {\n",
        "                    'batch_size': batch_size,\n",
        "                    'learning_rate': learning_rate,\n",
        "                    'dropout_rate': dropout_rate\n",
        "                }\n",
        "print('\\n')\n",
        "#print those best Parameters and Score\n",
        "print(\"Best Parameters:\")\n",
        "print(best_params)\n",
        "#Display best validation accuracy as percentage\n",
        "print(\"Best Validation Accuracy: {:.2f}%\".format(best_score * 100))"
      ],
      "metadata": {
        "colab": {
          "base_uri": "https://localhost:8080/"
        },
        "id": "Ye16UJZNysV-",
        "outputId": "3cbaa658-c5c5-4ee2-97d1-720ad1accc0b"
      },
      "execution_count": 161,
      "outputs": [
        {
          "output_type": "stream",
          "name": "stdout",
          "text": [
            "Testing with batch_size=16, learning_rate=0.001, dropout_rate=0.2\n",
            "Validation Accuracy: 0.7916666865348816\n",
            "Testing with batch_size=16, learning_rate=0.001, dropout_rate=0.3\n",
            "Validation Accuracy: 0.78125\n",
            "Testing with batch_size=16, learning_rate=0.001, dropout_rate=0.4\n",
            "Validation Accuracy: 0.8541666865348816\n",
            "Testing with batch_size=16, learning_rate=0.01, dropout_rate=0.2\n",
            "Validation Accuracy: 0.84375\n",
            "Testing with batch_size=16, learning_rate=0.01, dropout_rate=0.3\n",
            "Validation Accuracy: 0.8125\n",
            "Testing with batch_size=16, learning_rate=0.01, dropout_rate=0.4\n",
            "Validation Accuracy: 0.7604166865348816\n",
            "Testing with batch_size=16, learning_rate=0.1, dropout_rate=0.2\n",
            "Validation Accuracy: 0.6770833134651184\n",
            "Testing with batch_size=16, learning_rate=0.1, dropout_rate=0.3\n",
            "Validation Accuracy: 0.5\n",
            "Testing with batch_size=16, learning_rate=0.1, dropout_rate=0.4\n",
            "Validation Accuracy: 0.5\n",
            "Testing with batch_size=32, learning_rate=0.001, dropout_rate=0.2\n",
            "Validation Accuracy: 0.7916666865348816\n",
            "Testing with batch_size=32, learning_rate=0.001, dropout_rate=0.3\n",
            "Validation Accuracy: 0.8125\n",
            "Testing with batch_size=32, learning_rate=0.001, dropout_rate=0.4\n",
            "Validation Accuracy: 0.7604166865348816\n",
            "Testing with batch_size=32, learning_rate=0.01, dropout_rate=0.2\n",
            "Validation Accuracy: 0.7708333134651184\n",
            "Testing with batch_size=32, learning_rate=0.01, dropout_rate=0.3\n",
            "Validation Accuracy: 0.8541666865348816\n",
            "Testing with batch_size=32, learning_rate=0.01, dropout_rate=0.4\n",
            "Validation Accuracy: 0.8125\n",
            "Testing with batch_size=32, learning_rate=0.1, dropout_rate=0.2\n",
            "Validation Accuracy: 0.5\n",
            "Testing with batch_size=32, learning_rate=0.1, dropout_rate=0.3\n",
            "Validation Accuracy: 0.5\n",
            "Testing with batch_size=32, learning_rate=0.1, dropout_rate=0.4\n",
            "Validation Accuracy: 0.5\n",
            "Testing with batch_size=64, learning_rate=0.001, dropout_rate=0.2\n",
            "Validation Accuracy: 0.7916666865348816\n",
            "Testing with batch_size=64, learning_rate=0.001, dropout_rate=0.3\n",
            "Validation Accuracy: 0.8333333134651184\n",
            "Testing with batch_size=64, learning_rate=0.001, dropout_rate=0.4\n",
            "Validation Accuracy: 0.78125\n",
            "Testing with batch_size=64, learning_rate=0.01, dropout_rate=0.2\n",
            "Validation Accuracy: 0.8333333134651184\n",
            "Testing with batch_size=64, learning_rate=0.01, dropout_rate=0.3\n",
            "Validation Accuracy: 0.8333333134651184\n",
            "Testing with batch_size=64, learning_rate=0.01, dropout_rate=0.4\n",
            "Validation Accuracy: 0.8125\n",
            "Testing with batch_size=64, learning_rate=0.1, dropout_rate=0.2\n",
            "Validation Accuracy: 0.5833333134651184\n",
            "Testing with batch_size=64, learning_rate=0.1, dropout_rate=0.3\n",
            "Validation Accuracy: 0.6041666865348816\n",
            "Testing with batch_size=64, learning_rate=0.1, dropout_rate=0.4\n",
            "Validation Accuracy: 0.5\n",
            "\n",
            "\n",
            "Best Parameters:\n",
            "{'batch_size': 16, 'learning_rate': 0.001, 'dropout_rate': 0.4}\n",
            "Best Validation Accuracy: 85.42%\n"
          ]
        }
      ]
    }
  ]
}